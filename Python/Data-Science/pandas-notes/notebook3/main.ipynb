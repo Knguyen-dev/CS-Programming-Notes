{
 "cells": [
  {
   "cell_type": "markdown",
   "metadata": {},
   "source": [
    "# Scaling and Normalization of Data \n",
    "- Scaling: This is the idea making a range for our data. Are are only going up to 10, or 100 on our graph? For each graph tick, is it going to go by 5, 10, 20? For example, you're looking at data about prices in USD and Yen. While 1 US dollar is 100 yen, the computer doesn't know that. This is an easy case as you can just convert the currencies into one. But how about 'height' vs 'weight'? It's not clear how many pounds equals how many inches. \n",
    "- Normalization: You're changing the shape of the distribution of your data. You're trying to make it a normal distribution, which would help you a lot in statistical analyses. \n",
    "\n",
    "\n",
    "\n",
    "# Credits:\n",
    "1. [Scaling and normalization notebook](https://www.kaggle.com/code/alexisbcook/scaling-and-normalization)"
   ]
  },
  {
   "cell_type": "code",
   "execution_count": null,
   "metadata": {},
   "outputs": [],
   "source": [
    "# Modules for processing data\n",
    "import pandas as pd\n",
    "import numpy as np\n",
    "\n",
    "# For Box-Cox Transformation: Allows us to normalize our data as best as possible\n",
    "from scipy import stats\n",
    "\n",
    "# For scaling\n",
    "from sklearn.preprocessing import minmax_scale\n",
    "\n",
    "# modules for plottin\n",
    "import seaborn as sns\n",
    "import matplotlib.pyplot as plt\n",
    "\n",
    "# Setting the randomness seed\n",
    "np.random.seed(0)"
   ]
  }
 ],
 "metadata": {
  "kernelspec": {
   "display_name": "Python 3",
   "language": "python",
   "name": "python3"
  },
  "language_info": {
   "name": "python",
   "version": "3.12.4"
  }
 },
 "nbformat": 4,
 "nbformat_minor": 2
}
