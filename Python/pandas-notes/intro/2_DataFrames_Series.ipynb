{
 "cells": [
  {
   "cell_type": "markdown",
   "metadata": {},
   "source": [
    "# DataFrames and Series\n",
    "\n",
    "## What are data frames?\n",
    "A CSV is basically an Excel table. Just rows and columns of data. A data frame is basically the same thing as it's a data-structure that contains those rows and columns, alongside a bunch of functionality that allows us to manipulate that data. Sometimes it may be easier to think about it is like a dictionary:\n",
    "```\n",
    "users = {\n",
    "  'username': [\"Knguyen44\", \"AbagailW3nd\"],\n",
    "  'email': [\"knguyen44@gmail.com\", \"abbyWendel@outlook.com\"]\n",
    "}\n",
    "```\n",
    "Yeah it's kind of like this. Honestly if you're familiar with SQL databases, Excel, etc. then this should be simple to see. Our data frames are just these tables but with extra cool features.\n",
    "\n",
    "## What are series?\n",
    "This is just an 'array' of data, or just column of data, so you could have a series for the 'username'. This allows you to easily access all values in the username column, and also it adds cool new functionality and features to manipulate the values of said column. Of course you can get more complex with it, but this is the base idea. You could think of a data-frame as a collection of series that are teaming up."
   ]
  },
  {
   "cell_type": "code",
   "execution_count": 8,
   "metadata": {},
   "outputs": [
    {
     "data": {
      "text/plain": [
       "\"\\n+ Ex.4 Selecting rows using 'labels'.\\n\""
      ]
     },
     "execution_count": 8,
     "metadata": {},
     "output_type": "execute_result"
    }
   ],
   "source": [
    "'''\n",
    "+ Ex.1 Creating a dataframe from a dictionary. Another option besides reading from a csv and creating the data frame in that manner.\n",
    "'''\n",
    "import pandas as pd\n",
    "users = {\n",
    "  'username': [\"Knguyen44\", \"AbagailW3nd\"],\n",
    "  'email': [\"knguyen44@gmail.com\", \"abbyWendel@outlook.com\"]\n",
    "}\n",
    "usersDF = pd.DataFrame(users)\n",
    "\n",
    "'''\n",
    "+ Ex.2 Selecting specific columns back. \n",
    "\n",
    "So in our first example, we get back a series for the username. Basically we're just getting back all of the values for the 'username' column. However in our second example \n",
    "we wanted to get back the username and email column. Since we're getting more than one column, we'd get back a data frame instead of a series.\n",
    "\n",
    "NOTE: We're getting back \n",
    "'''\n",
    "usernameSeries = usersDF[\"username\"] # or usersDF.username; Though be careful as sometimes a column's name may have the same name as a data frame method e.g. 'count'\n",
    "usernameAndEmailDataFrame = usersDF[[\"username\", \"email\"]]\n",
    "\n",
    "'''\n",
    "+ Ex.3 Selecting rows with 'integer location'. \n",
    "\n",
    "In our first example, we are returned a series with the row's information. Things such as 'username' and 'email'. The 'indices' here are the column names so \n",
    "'username' and 'email' are index values '0' and '1' respectively. This is just simple array indexing. Anyways I want only the email, so I'm going to choose \n",
    "index '1'. \n",
    "\n",
    "Again in the first problem we return a series since it's just one array of values, and then in the second problem we return a data frame since we're dealing with two 'arrays' or rows of values.\n",
    "'''\n",
    "firstUser = usersDF.iloc[0] \n",
    "emailRows = usersDF.iloc[[0, 1], [1]]\n",
    "\n",
    "\n",
    "'''\n",
    "+ Ex.4 Selecting rows using 'labels'. \n",
    "\n",
    "Basically very similar to iloc, but it seems you can see the string names when specifying the columns or 'indices'. Remember indices aren't just columns and \n",
    "will get a little more complex later on.\n",
    "'''\n",
    "emailAndUsernameDF = usersDF.loc[[0,1], [[\"email\", \"username\"]]]\n",
    "\n"
   ]
  },
  {
   "cell_type": "markdown",
   "metadata": {},
   "source": [
    "## Back to the StackOverflow dataset\n",
    "Let's do some things:\n",
    "\n",
    "1. Get all of the values for the 'hobbyist' column. \n"
   ]
  },
  {
   "cell_type": "code",
   "execution_count": 6,
   "metadata": {},
   "outputs": [
    {
     "data": {
      "text/html": [
       "<div>\n",
       "<style scoped>\n",
       "    .dataframe tbody tr th:only-of-type {\n",
       "        vertical-align: middle;\n",
       "    }\n",
       "\n",
       "    .dataframe tbody tr th {\n",
       "        vertical-align: top;\n",
       "    }\n",
       "\n",
       "    .dataframe thead th {\n",
       "        text-align: right;\n",
       "    }\n",
       "</style>\n",
       "<table border=\"1\" class=\"dataframe\">\n",
       "  <thead>\n",
       "    <tr style=\"text-align: right;\">\n",
       "      <th></th>\n",
       "      <th>Hobbyist</th>\n",
       "      <th>OpenSourcer</th>\n",
       "      <th>OpenSource</th>\n",
       "      <th>Employment</th>\n",
       "    </tr>\n",
       "  </thead>\n",
       "  <tbody>\n",
       "    <tr>\n",
       "      <th>0</th>\n",
       "      <td>Yes</td>\n",
       "      <td>Never</td>\n",
       "      <td>The quality of OSS and closed source software ...</td>\n",
       "      <td>Not employed, and not looking for work</td>\n",
       "    </tr>\n",
       "    <tr>\n",
       "      <th>1</th>\n",
       "      <td>No</td>\n",
       "      <td>Less than once per year</td>\n",
       "      <td>The quality of OSS and closed source software ...</td>\n",
       "      <td>Not employed, but looking for work</td>\n",
       "    </tr>\n",
       "    <tr>\n",
       "      <th>2</th>\n",
       "      <td>Yes</td>\n",
       "      <td>Never</td>\n",
       "      <td>The quality of OSS and closed source software ...</td>\n",
       "      <td>Employed full-time</td>\n",
       "    </tr>\n",
       "  </tbody>\n",
       "</table>\n",
       "</div>"
      ],
      "text/plain": [
       "  Hobbyist              OpenSourcer  \\\n",
       "0      Yes                    Never   \n",
       "1       No  Less than once per year   \n",
       "2      Yes                    Never   \n",
       "\n",
       "                                          OpenSource  \\\n",
       "0  The quality of OSS and closed source software ...   \n",
       "1  The quality of OSS and closed source software ...   \n",
       "2  The quality of OSS and closed source software ...   \n",
       "\n",
       "                               Employment  \n",
       "0  Not employed, and not looking for work  \n",
       "1      Not employed, but looking for work  \n",
       "2                      Employed full-time  "
      ]
     },
     "execution_count": 6,
     "metadata": {},
     "output_type": "execute_result"
    }
   ],
   "source": [
    "import pandas as pd\n",
    "csvPath = \"../data/survey_results_public.csv\"\n",
    "df = pd.read_csv(csvPath)\n",
    "\n",
    "'''\n",
    "+ Task 1: Get all values from the hobbyist column. So remember df.columns allows us to see all of the columns that are available.\n",
    "\n",
    "'''\n",
    "hobbyistData = df[\"Hobbyist\"]\n",
    "\n",
    "# Get the first 3 rows, from 0 to 2 inclusive, and only get the hobbyist column\n",
    "df.loc[0:2, \"Hobbyist\"]\n",
    "\n",
    "\n",
    "'''\n",
    " + Task 2: Do more slicing. So we get rows with indexes 0, 1, and 2. Then from those rows we get all columns from Hobbyist to Employement inclusive. So yeah the \n",
    " reason they made it inclusive because it'd be pretty annoying and hard to use if it wasn't inclusive. It'd be kind of weird to specify the column after the 'Employment' column to \n",
    " indicate that we want to include the Employment column.\n",
    "\n",
    "'''\n",
    "df.loc[0:2, \"Hobbyist\":\"Employment\"]\n",
    "\n"
   ]
  }
 ],
 "metadata": {
  "kernelspec": {
   "display_name": "Python 3",
   "language": "python",
   "name": "python3"
  },
  "language_info": {
   "codemirror_mode": {
    "name": "ipython",
    "version": 3
   },
   "file_extension": ".py",
   "mimetype": "text/x-python",
   "name": "python",
   "nbconvert_exporter": "python",
   "pygments_lexer": "ipython3",
   "version": "3.12.4"
  }
 },
 "nbformat": 4,
 "nbformat_minor": 2
}
