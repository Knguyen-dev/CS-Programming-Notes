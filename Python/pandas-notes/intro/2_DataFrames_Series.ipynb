{
 "cells": [
  {
   "cell_type": "markdown",
   "metadata": {},
   "source": [
    "# DataFrames and Series\n",
    "\n",
    "## What are data frames?\n",
    "A CSV is basically an Excel table. Just rows and columns of data. A data frame is basically the same thing as it's a data-structure that contains those rows and columns, alongside a bunch of functionality that allows us to manipulate that data. Sometimes it may be easier to think about it is like a dictionary:\n",
    "```\n",
    "users = {\n",
    "  'username': [\"Knguyen44\", \"AbagailW3nd\"],\n",
    "  'email': [\"knguyen44@gmail.com\", \"abbyWendel@outlook.com\"]\n",
    "}\n",
    "```\n",
    "Yeah it's kind of like this. Honestly if you're familiar with SQL databases, Excel, etc. then this should be simple to see. Our data frames are just these tables but with extra cool features.\n",
    "\n",
    "## What are series?\n",
    "This is just an 'array' of data, or just column of data, so you could have a series for the 'username'. This allows you to easily access all values in the username column, and also it adds cool new functionality and features to manipulate the values of said column. Of course you can get more complex with it, but this is the base idea. You could think of a data-frame as a collection of series that are teaming up."
   ]
  },
  {
   "cell_type": "code",
   "execution_count": 8,
   "metadata": {},
   "outputs": [
    {
     "data": {
      "text/plain": [
       "\"\\n+ Ex.4 Selecting rows using 'labels'.\\n\""
      ]
     },
     "execution_count": 8,
     "metadata": {},
     "output_type": "execute_result"
    }
   ],
   "source": [
    "'''\n",
    "+ Ex.1 Creating a dataframe from a dictionary. Another option besides reading from a csv and creating the data frame in that manner.\n",
    "'''\n",
    "import pandas as pd\n",
    "users = {\n",
    "  'username': [\"Knguyen44\", \"AbagailW3nd\"],\n",
    "  'email': [\"knguyen44@gmail.com\", \"abbyWendel@outlook.com\"]\n",
    "}\n",
    "usersDF = pd.DataFrame(users)\n",
    "\n",
    "'''\n",
    "+ Ex.2 Selecting specific columns back. \n",
    "\n",
    "So in our first example, we get back a series for the username. Basically we're just getting back all of the values for the 'username' column. However in our second example \n",
    "we wanted to get back the username and email column. Since we're getting more than one column, we'd get back a data frame instead of a series.\n",
    "\n",
    "NOTE: We're getting back \n",
    "'''\n",
    "usernameSeries = usersDF[\"username\"] # or usersDF.username; Though be careful as sometimes a column's name may have the same name as a data frame method e.g. 'count'\n",
    "usernameAndEmailDataFrame = usersDF[[\"username\", \"email\"]]\n",
    "\n",
    "'''\n",
    "+ Ex.3 Selecting rows with 'integer location'. \n",
    "\n",
    "In our first example, we are returned a series with the row's information. Things such as 'username' and 'email'. The 'indices' here are the column names so \n",
    "'username' and 'email' are index values '0' and '1' respectively. This is just simple array indexing. Anyways I want only the email, so I'm going to choose \n",
    "index '1'. \n",
    "\n",
    "Again in the first problem we return a series since it's just one array of values, and then in the second problem we return a data frame since we're dealing with two 'arrays' or rows of values.\n",
    "'''\n",
    "firstUser = usersDF.iloc[0] \n",
    "emailRows = usersDF.iloc[[0, 1], [1]]\n",
    "\n",
    "\n",
    "'''\n",
    "+ Ex.4 Selecting rows using 'labels'. \n",
    "\n",
    "Basically very similar to iloc, but it seems you can see the string names when specifying the columns or 'indices'. Remember indices aren't just columns and \n",
    "will get a little more complex later on.\n",
    "'''\n",
    "emailAndUsernameDF = usersDF.iloc[[0,1], [[\"email\", \"username\"]]]\n",
    "\n"
   ]
  },
  {
   "cell_type": "markdown",
   "metadata": {},
   "source": [
    "## Back to the StackOverflow dataset\n",
    "Let's do some things:\n",
    "\n",
    "1. Get all of the values for the 'hobbyist' column. \n"
   ]
  },
  {
   "cell_type": "code",
   "execution_count": null,
   "metadata": {},
   "outputs": [],
   "source": [
    "csvPath = \"../data/survey_results_public.csv\"\n",
    "dataFrame = pd.read_csv(csvPath)\n",
    "\n",
    "'''\n",
    "+ Task 1: Get all values from the hobbyist. \n",
    "\n",
    "'''\n",
    "\n",
    "\n",
    "\n"
   ]
  }
 ],
 "metadata": {
  "kernelspec": {
   "display_name": "Python 3",
   "language": "python",
   "name": "python3"
  },
  "language_info": {
   "codemirror_mode": {
    "name": "ipython",
    "version": 3
   },
   "file_extension": ".py",
   "mimetype": "text/x-python",
   "name": "python",
   "nbconvert_exporter": "python",
   "pygments_lexer": "ipython3",
   "version": "3.12.4"
  }
 },
 "nbformat": 4,
 "nbformat_minor": 2
}
