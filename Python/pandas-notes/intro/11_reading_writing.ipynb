{
 "cells": [
  {
   "cell_type": "code",
   "execution_count": null,
   "metadata": {},
   "outputs": [],
   "source": [
    "import pandas as pd\n",
    "csvPath = \"../data/survey_results_public.csv\"\n",
    "\n",
    "# 1. Reading a csv\n",
    "df = pd.read_csv(csvPath, index_col=\"Respondent\")\n",
    "\n",
    "# 2. Create a filter that will only return the rows with 'Country' of india.\n",
    "countryFilter = (df[\"Country\"] == \"India\")\n",
    "\n",
    "# 3. Create that new data frame for only india related data. Then convert that data frame as a csv\n",
    "india_df = df.loc[countryFilter]\n",
    "writePath = \"../data/modified_survey_results.csv\"\n",
    "india_df.to_csv(writePath)\n",
    "\n",
    "\n",
    "\n"
   ]
  }
 ],
 "metadata": {
  "kernelspec": {
   "display_name": "Python 3",
   "language": "python",
   "name": "python3"
  },
  "language_info": {
   "name": "python",
   "version": "3.12.4"
  }
 },
 "nbformat": 4,
 "nbformat_minor": 2
}
