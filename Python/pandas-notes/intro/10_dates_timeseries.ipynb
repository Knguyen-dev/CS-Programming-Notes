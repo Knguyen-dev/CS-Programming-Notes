{
 "cells": [
  {
   "cell_type": "markdown",
   "metadata": {},
   "source": [
    "# Time series data\n",
    "It's just data that has dates in it, tracks information over time. So Pandas does give us some tools for handling this"
   ]
  },
  {
   "cell_type": "code",
   "execution_count": 10,
   "metadata": {},
   "outputs": [
    {
     "name": "stdout",
     "output_type": "stream",
     "text": [
      "195.1655902777778\n"
     ]
    }
   ],
   "source": [
    "import pandas as pd\n",
    "\n",
    "'''\n",
    "1. We need to convert the values 'Date' column into a programmable DateTime object, rather than keeping it as a string. However this won't work \n",
    "using the date string format is in '2020-03-13 04-PM' which is a pretty unusual date string format. Basically you need to indicate to pandas how \n",
    "your date data is formatted. Now the converted values look like this '2020-03-13 20:00:00' which is more akin to dates in programming. More importantly\n",
    "they're all now datetime objects that we can programmatically use.\n",
    "'''\n",
    "df = pd.read_csv(\"../data/ETH_1h.csv\", parse_dates=['Date'], date_format=\"%Y-%m-%d %I-%p\")\n",
    "\n",
    "# 2. Create a new column to show the day of the week\n",
    "df[\"DayOfWeek\"] = df[\"Date\"].dt.day_name()\n",
    "\n",
    "# 3. Find the earliest and latest trade dates and their difference\n",
    "earliestDate = df[\"Date\"].min()\n",
    "latestDate = df[\"Date\"].max()\n",
    "\n",
    "# 4. Filter rows for the years 2019 and 2020\n",
    "dateFilter = (df['Date'] >= pd.to_datetime(\"2019-01-01\")) & (df['Date'] < pd.to_datetime(\"2020-01-01\"))\n",
    "filtered_df = df.loc[dateFilter]\n",
    "\n",
    "# 5. Set the index to 'Date'; Date values are all unique.\n",
    "df.set_index('Date', inplace=True)\n",
    "\n",
    "'''\n",
    "6. Filter data for the year 2019 using the index. Index is a 'DatetimeIndex' object  which allows us to access 'year'\n",
    "'''\n",
    "data_from_2019 = df[df.index.year == 2019]\n",
    "\n",
    "'''\n",
    "7. You can also do slicing, which is inclusive in Pandas! So let's access a specific date range, which should return a data frame. Then \n",
    "let's access the 'Close' column/series, and then get the mean. As a result, we've calculated the average closing price during that time-frame. However \n",
    "it only works if things are sorted, which makes sense.\n",
    "'''\n",
    "df = df.sort_index()\n",
    "df[\"2020-01\":\"2020-02\"][\"Close\"].mean()"
   ]
  },
  {
   "cell_type": "code",
   "execution_count": null,
   "metadata": {},
   "outputs": [],
   "source": []
  }
 ],
 "metadata": {
  "kernelspec": {
   "display_name": "Python 3",
   "language": "python",
   "name": "python3"
  },
  "language_info": {
   "codemirror_mode": {
    "name": "ipython",
    "version": 3
   },
   "file_extension": ".py",
   "mimetype": "text/x-python",
   "name": "python",
   "nbconvert_exporter": "python",
   "pygments_lexer": "ipython3",
   "version": "3.12.4"
  }
 },
 "nbformat": 4,
 "nbformat_minor": 2
}
