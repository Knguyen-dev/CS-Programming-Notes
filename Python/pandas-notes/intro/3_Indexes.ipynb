{
 "cells": [
  {
   "cell_type": "markdown",
   "metadata": {},
   "source": [
    "# Indexes \n",
    "\n",
    "## What are indexes or labels?\n",
    "The typically a unique identifier for a row. By default we use numbers from 0 to n, so row 0, 1, 2, etc. However you can customize the index and set it to a column value. For example, you can set the index of a user data frame as the `email` column, since emails are typically unique. Now rather than rows relying on the zero-index numbering system, instead they're index based on their email values."
   ]
  },
  {
   "cell_type": "code",
   "execution_count": null,
   "metadata": {},
   "outputs": [],
   "source": [
    "'''\n",
    "+ Ex. 1: Setting and manipulating indexes manually.\n",
    "'''\n",
    "import pandas as pd\n",
    "users = {\n",
    "  'first': [\"Kevin\", \"Abby\"],\n",
    "  'last': [\"Nguyen\", \"Wendel\"],\n",
    "  'email': [\"knguyen44@gmail.com\", \"abbyWendel@outlook.com\"]\n",
    "}\n",
    "usersDF = pd.DataFrame(users)\n",
    "\n",
    "# Update data frame so that it uses 'email' for the indexing\n",
    "usersDF = usersDF.set_index(\"email\") \n",
    "\n",
    "# then we want to reset the index\n",
    "usersDF = usersDF.reset_index()"
   ]
  },
  {
   "cell_type": "code",
   "execution_count": null,
   "metadata": {},
   "outputs": [],
   "source": [
    "'''\n",
    "+ Ex. 2: Setting the index whilst loading it in as a CSV. So here we set the index (unique identifier for rows) as the \n",
    "'Respondent' column, which is just the ID of the respondent. Then for the schema, we know that the 'column' value is unique\n",
    "and it's more useful now, as we can quickly look up with a certain column means based on the name.\n",
    "'''\n",
    "import pandas as pd\n",
    "csvPath = \"../data/survey_results_public.csv\"\n",
    "df = pd.read_csv(csvPath, index_col=\"Respondent\")\n",
    "\n",
    "schemaCsvPath = \"../data/survey_results_schema.csv\"\n",
    "dataSchemaDF = pd.read_csv(schemaCsvPath, index_col=\"Column\")\n",
    "\n",
    "# Sorting the rows in our data frame such that the indexes are in alphabetical order.\n",
    "dataSchemaDF = dataSchemaDF.sort_index(ascending=False)\n",
    "\n",
    "\n",
    "pd.set_option(\"display.max_columns\", 10)\n",
    "pd.set_option(\"display.max_rows\", 10)\n",
    "\n",
    "# We can use '.loc' to search based on the index value!\n",
    "print(dataSchemaDF.loc[\"MgrIdiot\"])\n",
    "\n",
    "\n",
    "print(df.head)\n",
    "\n"
   ]
  }
 ],
 "metadata": {
  "kernelspec": {
   "display_name": "Python 3",
   "language": "python",
   "name": "python3"
  },
  "language_info": {
   "codemirror_mode": {
    "name": "ipython",
    "version": 3
   },
   "file_extension": ".py",
   "mimetype": "text/x-python",
   "name": "python",
   "nbconvert_exporter": "python",
   "pygments_lexer": "ipython3",
   "version": "3.12.4"
  }
 },
 "nbformat": 4,
 "nbformat_minor": 2
}
