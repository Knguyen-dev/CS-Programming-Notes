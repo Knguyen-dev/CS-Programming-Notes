{
 "cells": [
  {
   "cell_type": "markdown",
   "metadata": {},
   "source": [
    "# Filtering\n",
    "Pandas makes it pretty simple to filter out data so that we get what we want and get rid of what we don't. We've already seen basic filtering with 'loc' as it has helped us filter out columns."
   ]
  },
  {
   "cell_type": "code",
   "execution_count": 1,
   "metadata": {},
   "outputs": [
    {
     "data": {
      "text/html": [
       "<div>\n",
       "<style scoped>\n",
       "    .dataframe tbody tr th:only-of-type {\n",
       "        vertical-align: middle;\n",
       "    }\n",
       "\n",
       "    .dataframe tbody tr th {\n",
       "        vertical-align: top;\n",
       "    }\n",
       "\n",
       "    .dataframe thead th {\n",
       "        text-align: right;\n",
       "    }\n",
       "</style>\n",
       "<table border=\"1\" class=\"dataframe\">\n",
       "  <thead>\n",
       "    <tr style=\"text-align: right;\">\n",
       "      <th></th>\n",
       "      <th>first</th>\n",
       "      <th>last</th>\n",
       "      <th>email</th>\n",
       "    </tr>\n",
       "  </thead>\n",
       "  <tbody>\n",
       "    <tr>\n",
       "      <th>0</th>\n",
       "      <td>Kevin</td>\n",
       "      <td>Nguyen</td>\n",
       "      <td>knguyen44@gmail.com</td>\n",
       "    </tr>\n",
       "  </tbody>\n",
       "</table>\n",
       "</div>"
      ],
      "text/plain": [
       "   first    last                email\n",
       "0  Kevin  Nguyen  knguyen44@gmail.com"
      ]
     },
     "execution_count": 1,
     "metadata": {},
     "output_type": "execute_result"
    }
   ],
   "source": [
    "'''\n",
    "+ Ex. 1: That condition creates a 'filter mask'. Basically it's a series/sequence of boolean values, where true means a certain row index meets the criteria and will be returned, whilst false \n",
    "means it doesn't and will be discarded. So for index 0, row 0, the value of the sequence is 'True' because the user in the zeroth index (first row) has the first name 'Kevin'. \n",
    "Then it's false for the 1st index (second row) since the 'first' value isn't 'Kevin'.\n",
    "\n",
    "Then you can 'apply' the filter on your data frame, and that will give you back a data frame or series will the filtered out rows. You could also use `.loc`. Remember that .loc is used for getting \n",
    "rows by label, but passing in a series of booleans works as well. \n",
    "\n",
    "'''\n",
    "import pandas as pd\n",
    "users = {\n",
    "  'first': [\"Kevin\", \"Abby\"],\n",
    "  'last': [\"Nguyen\", \"Wendel\"],\n",
    "  'email': [\"knguyen44@gmail.com\", \"abbyWendel@outlook.com\"]\n",
    "}\n",
    "usersDF = pd.DataFrame(users)\n",
    "\n",
    "\n",
    "myFilter = (usersDF[\"first\"] == \"Kevin\")\n",
    "\n",
    "\n",
    "filteredUsersDF = usersDF[myFilter] # or you could do: usersDF.loc[myFilter]\n",
    "\n",
    "filteredUsersDF\n",
    "\n",
    "'''\n",
    "+ Ex. 2: Using AND and OR operators with filters. These operators are associated with & and |.\n",
    "1. Find all users with the name Lebron James.\n",
    "2. Find all users whose name wasn't Lebron James.\n",
    "3. Find all users with the first name Kyrie or Michael.\n",
    "'''\n",
    "andFilter = (usersDF[\"first\"] == \"Lebron\" & usersDF[\"last\"] == \"James\")\n",
    "negateFilter = ~(usersDF[\"first\"] == \"Lebron\" & usersDF[\"last\"] == \"James\")\n",
    "orFilter = (usersDF[\"first\"] == \"Kyrie\" | usersDF[\"first\"] == \"Michael\")\n"
   ]
  },
  {
   "cell_type": "code",
   "execution_count": null,
   "metadata": {},
   "outputs": [],
   "source": [
    "'''\n",
    "+ Ex. 3: Let's take a look at some real world examples\n",
    "\n",
    "1. Let's find all programmers with a salary above a certain threshold. However let's get some columns such as the country they're from, the languages they're working with, and also their actual salary\n",
    "2. Let's also do another query. Find all rows with a given 'Country' value that's in our list.\n",
    "3. In the 'LanguageWorkedWith' column it looks like this \"Java;JavaScript;Python\". Akin to 'LIKE' in SQL, we can do a filter where the column matches a certain regex pattern. This is useful if we want \n",
    "to do something like, finding all developers where 'Python' is one of their languages. Here our filter does that exact thing and the 'na' just means that for any rows that have the 'LanguagesWorkedWith'\n",
    "column as 'NaN', then we'll ignore and skip them. Then \n",
    "'''\n",
    "\n",
    "import pandas as pd\n",
    "csvPath = \"../data/survey_results_public.csv\"\n",
    "df = pd.read_csv(csvPath, index_col=\"Respondent\")\n",
    "highSalaryFilter = (df[\"ConvertedComp\"] > 70000)\n",
    "df.loc[highSalaryFilter, [\"Country\", \"LanguageWorkedWith\", \"ConvertedComp\"]]\n",
    "\n",
    "targetCountries = [\"United States\", \"Germany\", \"Canada\"]\n",
    "countriesFilter = df[\"Country\"].isin(targetCountries)\n",
    "df.loc(countriesFilter, [\"Country\", \"LanguageWorkedWith\", \"ConvertedComp\"])\n",
    "\n",
    "\n",
    "languagesFilter = df[\"LanguagesWorkedWith\"].str.contains(\"Python\", na=False)\n",
    "df.loc(languagesFilter, [\"Country\", \"LanguagesWorkedWith\", \"ConvertedComp\"])"
   ]
  }
 ],
 "metadata": {
  "kernelspec": {
   "display_name": "Python 3",
   "language": "python",
   "name": "python3"
  },
  "language_info": {
   "codemirror_mode": {
    "name": "ipython",
    "version": 3
   },
   "file_extension": ".py",
   "mimetype": "text/x-python",
   "name": "python",
   "nbconvert_exporter": "python",
   "pygments_lexer": "ipython3",
   "version": "3.12.4"
  }
 },
 "nbformat": 4,
 "nbformat_minor": 2
}
