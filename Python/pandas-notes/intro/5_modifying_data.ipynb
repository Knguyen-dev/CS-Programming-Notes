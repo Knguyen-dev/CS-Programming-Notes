{
 "cells": [
  {
   "cell_type": "markdown",
   "metadata": {},
   "source": [
    "# Modifying data within data frames\n",
    "\n",
    "Here we're going to focus more on modifying the data frame itself. Updating rows and columns essentially."
   ]
  },
  {
   "cell_type": "code",
   "execution_count": 5,
   "metadata": {},
   "outputs": [
    {
     "name": "stdout",
     "output_type": "stream",
     "text": [
      "      first     last                    email\n",
      "0  Aleister   Nguyen      knguyen44@gmail.com\n",
      "1      Abby  Wendell  abbyWendell@outlook.com\n",
      "2  Aleister   Nguyen        JNguyen@gmail.com\n"
     ]
    }
   ],
   "source": [
    "'''\n",
    "+ Ex. 1: \n",
    "'''\n",
    "\n",
    "import pandas as pd\n",
    "users = {\n",
    "  'first': [\"Kevin\", \"Abby\", \"John\"],\n",
    "  'last': [\"Nguyen\", \"Wendell\", \"Nguyen\"],\n",
    "  'email': [\"knguyen44@gmail.com\", \"abbyWendel@outlook.com\", \"JNguyen@gmail.com\"]\n",
    "}\n",
    "df = pd.DataFrame(users)\n",
    "\n",
    "# Updating a row's data\n",
    "df.loc[1, ['last','email']] =  [\"Wendell\", \"abbyWendell@outlook.com\"] \n",
    "\n",
    "# Everyone with the last name 'Nguyen' will have their first names updated to 'Aleister'. However we didn't reassign things so \n",
    "# while expression does return a data frame, it doesn't update our original one.\n",
    "myFilter = (df[\"last\"] == \"Nguyen\")\n",
    "df.loc[myFilter, \"first\"] = \"Aleister\"\n",
    "\n",
    "'''\n",
    "+ Ex. 2: Changing all values of a given column. However this is a common technique, and pandas \n",
    "has created functions for these types of operations\n",
    "'''\n",
    "\n",
    "# Updates our data frame such that each email is now lowercased \n",
    "df[\"email\"] = df[\"email\"].str.lower();\n"
   ]
  },
  {
   "cell_type": "markdown",
   "metadata": {},
   "source": [
    "## Apply, Map, and ApplyMap\n",
    "\n",
    "### Apply\n",
    "Applies a function along an axis (rows or columns) of a data frame or series. If working with a series, it applies the function to each value of the series. But if you use it on a data-frame it'll analyze the series objects that make up the data frame, rather than \n",
    "their value .\n",
    "\n",
    "### Map\n",
    "Applies a function or 'mapping' to each element of a series (only a series). Substitutes each values in a series with another value using a custom dictionary.\n",
    "\n",
    "### Apply map\n",
    "Applies a function to each element in the data frame. This only works on data frames.\n",
    "\n",
    "### Replace\n",
    "Given a series "
   ]
  },
  {
   "cell_type": "code",
   "execution_count": 6,
   "metadata": {},
   "outputs": [
    {
     "ename": "SyntaxError",
     "evalue": "expected ':' (3785808145.py, line 3)",
     "output_type": "error",
     "traceback": [
      "\u001b[1;36m  Cell \u001b[1;32mIn[6], line 3\u001b[1;36m\u001b[0m\n\u001b[1;33m    def updateEmail() {}\u001b[0m\n\u001b[1;37m                      ^\u001b[0m\n\u001b[1;31mSyntaxError\u001b[0m\u001b[1;31m:\u001b[0m expected ':'\n"
     ]
    }
   ],
   "source": [
    "import pandas as pd\n",
    "\n",
    "df = pd.DataFrame({\n",
    "  'first': [\"Kevin\", \"Abby\", \"John\"],\n",
    "  'last': [\"Nguyen\", \"Wendel\", \"Nguyen\"],\n",
    "  'email': [\"knguyen44@gmail.com\", \"abbyWendel@outlook.com\", \"JNguyen@gmail.com\"]\n",
    "})\n",
    "\n",
    "\n",
    "def updateEmail(email):\n",
    "  return email.upper()\n",
    "\n",
    "'''\n",
    "- Ex.1: Apply\n",
    "1. Here it's using the 'len()' function on each value in \n",
    "the 'email' column/series, and it's returning a series with the lengths of those emails.\n",
    "\n",
    "2. In this one, we're applying the 'updateEmail' function on every value in the 'email' series/column.\n",
    "Now we'd get back a series with those upper-case emails. We're going to save those changes to our data frame \n",
    "by reassigning the 'email' column.\n",
    "\n",
    "3. Finally we used a lambda function to get a series of the lower-cased emails. \n",
    "\n",
    "4. Using .apply with a data frame. So it will run a function on each row or column of the data frame, rather \n",
    "than the values of each row or column. Here it applies the len() function to each column and it'll tell us that \n",
    "each column has a length of 3, the number of rows in each column.\n",
    "\n",
    "5. It's applying the 'len()' on the rows now. Which is still 3 on all because all rows have the same amount of columns.\n",
    "\n",
    "6. Let's do something cool and get the minimum value from each column\n",
    "\n",
    "7. Here we're trying to find the 'minimum' value in each column. So minimum value in the first, last, and email column. Since \n",
    "we're working with strings, it calculates ascii values, but this defin\n",
    "'''\n",
    "df[\"email\"].apply(len)\n",
    "df['email'] = df[\"email\"].apply(updateEmail)\n",
    "df[\"email\"] = df[\"email\"].apply(lambda email: email.lower())\n",
    "\n",
    "\n",
    "df.apply(len); # len[df[\"first\"], len(df[]\"last\") ]len(df[\"email\"]) is what it's doing on each series ('vertical' series)\n",
    "\n",
    "df.apply(len, axis=\"columns\") # now every row (horizontal) series \n",
    "\n",
    "df.apply\n",
    "\n",
    "df.apply(pd.Series.min);"
   ]
  },
  {
   "cell_type": "code",
   "execution_count": null,
   "metadata": {},
   "outputs": [],
   "source": [
    "import pandas as pd\n",
    "'''\n",
    "+ Ex.2 \n",
    "\n",
    "1. Using applymap on a data frame. It'll return a data frame containing the result of \n",
    "the callback function!\n",
    "\n",
    "2. Searches the 'first' series and looks for the names 'Corey' and 'Jane' and replaces them with their \n",
    "appropriate counterparts. If the value of a value in the sequence wasn't 'Corey' or 'Jane' then it was replaced \n",
    "with NaN. Now let's say you didn't want to make the non-matches NaN? Use the replace method. Again this returns a \n",
    "series with the results, and to save these changes we'd have to do reassignment \n",
    "'''\n",
    "\n",
    "df = pd.DataFrame({\n",
    "  'first': [\"Kevin\", \"Abby\", \"John\"],\n",
    "  'last': [\"Nguyen\", \"Wendel\", \"Nguyen\"],\n",
    "  'email': [\"knguyen44@gmail.com\", \"abbyWendel@outlook.com\", \"JNguyen@gmail.com\"]\n",
    "})\n",
    "\n",
    "\n",
    "df.applymap(len)\n",
    "\n",
    "df[\"first\"].map({'Corey': 'Christ', 'Jane': \"Mary\"})\n",
    "df['first'] = df[\"first\"].replace({'Corey': 'Christ', 'Jane': \"Mary\"})"
   ]
  },
  {
   "cell_type": "code",
   "execution_count": null,
   "metadata": {},
   "outputs": [],
   "source": [
    "'''\n",
    "+ Back to stack overflow data\n",
    "\n",
    "1. Rename 'ConvertedComp' to 'SalaryUSD'. After seeing that it's correctly changed we \n",
    "can set inplace=true to save changes to the original data frame. Always a good idea to check \n",
    "that the change was good before we solidify those changes.\n",
    "\n",
    "2. 'Hobbyist' column was 'Yes' and 'No' values. Let's turn these all into boolean values, which we can \n",
    "   easily do with map or replace. Here we use map, so any key that isn't defined in our dictionary willl\n",
    "   be converted to NaN. In the hypothetical case where you wanted to leave values that weren't caught in your \n",
    "   dictionary, you'd use replace.\n",
    "'''\n",
    "import pandas as pd\n",
    "csvPath = \"../data/survey_results_public.csv\"\n",
    "df = pd.read_csv(csvPath, index_col=\"Respondent\")\n",
    "\n",
    "# 1\n",
    "df.rename(columns={\"ConvertedComp\": \"SalaryUSD\"}, inplace=True)\n",
    "\n",
    "# 2 \n",
    "df[\"Hobbyist\"] = df[\"Hobbyist\"].map({\"Yes\": True, \"No\": False})\n",
    "\n",
    "\n",
    "\n",
    "\n"
   ]
  }
 ],
 "metadata": {
  "kernelspec": {
   "display_name": "Python 3",
   "language": "python",
   "name": "python3"
  },
  "language_info": {
   "codemirror_mode": {
    "name": "ipython",
    "version": 3
   },
   "file_extension": ".py",
   "mimetype": "text/x-python",
   "name": "python",
   "nbconvert_exporter": "python",
   "pygments_lexer": "ipython3",
   "version": "3.12.4"
  }
 },
 "nbformat": 4,
 "nbformat_minor": 2
}
