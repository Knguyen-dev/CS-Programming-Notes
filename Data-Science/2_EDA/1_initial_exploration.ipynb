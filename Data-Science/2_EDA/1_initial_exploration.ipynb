{
 "cells": [
  {
   "cell_type": "markdown",
   "metadata": {},
   "source": [
    "# EDA (Exploratory Data Analysis)\n",
    "\n",
    "## What is EDA?\n",
    "Process of cleaning and review data in order to derive insights such as some hypotheses, possible relationships, etc. With these results, you can then decide what to do such as generating hypotheses, preparing to use in an ML model, or even throwing out the data to get new data. \n",
    "\n",
    "### Step 1: First EDA Tricks\n",
    "1. **head():** Good for previewing your columns\n",
    "2. **info():** Good for seeing the amount of non-missing values, size taken up by the data, etc.\n",
    "3. **value_counts():** Good for seeing hte distribution of values over a series. Here we'd see the \n",
    "number of books in each genre.\n",
    "4. **describe():** Provides good summary statistics.\n",
    "5. **histograms:** Classic way of looking at hte distribution of numerical data. We create bins (x, y]\n",
    "and then see how many data points fall into each bin\n",
    "```Python\n",
    "import seaborn as sns\n",
    "import matplotlib as plt\n",
    "\n",
    "books = pd.read_csv(\"books.csv\")\n",
    "books.head(5)\n",
    "books.info()\n",
    "books['genre'].value_counts()\n",
    "\n",
    "sns.histplot(data=books, x=\"rating\")\n",
    "plt.show()\n",
    "```"
   ]
  },
  {
   "cell_type": "code",
   "execution_count": null,
   "metadata": {},
   "outputs": [],
   "source": [
    "'''\n",
    "\n",
    "'''\n",
    "import seaborn as sns\n",
    "import matplotlib.pyplot as plt\n",
    "\n",
    "unemployment.head(5)\n",
    "\n",
    "# Create a histogram that show's 2021 unemployment rates. Note that \n",
    "# unemployment['2021'] is a series of integers\n",
    "\n",
    "\n",
    "# BOOK MARK: https://campus.datacamp.com/courses/exploratory-data-analysis-in-python/getting-to-know-a-dataset?ex=4"
   ]
  },
  {
   "cell_type": "code",
   "execution_count": null,
   "metadata": {},
   "outputs": [],
   "source": []
  }
 ],
 "metadata": {
  "kernelspec": {
   "display_name": "Python 3",
   "language": "python",
   "name": "python3"
  },
  "language_info": {
   "name": "python",
   "version": "3.12.4"
  }
 },
 "nbformat": 4,
 "nbformat_minor": 2
}
