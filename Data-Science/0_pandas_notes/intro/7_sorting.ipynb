{
 "cells": [
  {
   "cell_type": "markdown",
   "metadata": {},
   "source": [
    "# Sorting Data \n",
    "We're going to be focusing on sorting data in our data frames now."
   ]
  },
  {
   "cell_type": "code",
   "execution_count": null,
   "metadata": {},
   "outputs": [],
   "source": [
    "import pandas as pd\n",
    "\n",
    "df = pd.DataFrame({\n",
    "  'first': [\"Kevin\", \"Abby\", \"John\"],\n",
    "  'last': [\"Nguyen\", \"Wendell\", \"Nguyen\"],\n",
    "  'email': [\"knguyen44@gmail.com\", \"abbyWendel@outlook.com\", \"JNguyen@gmail.com\"]\n",
    "})\n",
    "\n",
    "# Sorting by the last name in descending order\n",
    "df.sort_values(by=\"last\", ascending=False)\n",
    "\n",
    "# Sort by last name first, if there are equal last names, we'll sort the two rows around via the first name \n",
    "df.sort_values(by=[\"last\",\"first\"], ascending=False)\n"
   ]
  },
  {
   "cell_type": "code",
   "execution_count": null,
   "metadata": {},
   "outputs": [],
   "source": [
    "'''\n",
    "1.  Let's sort based on country name. So now things should be in alphabetical order. With the top rows being Afghanistan, Albania, and so on.\n",
    "2. Now let's access the salaries.\n",
    "3. Let's sort the countries in ascending order. If they have the same countries, then sort based on their salaries. So there'd be the Afghanistan section\n",
    "and then the the highest to lowest ones.\n",
    "4. How about we wanted to get the 10 highest salaries. First, we can mess with the 'ConvertedComp' column and get the 10 largest salaries. We can do this \n",
    "with a simple method. However we only get the 'ConvertedComp' series here, not any other columns.\n",
    "5. Let's run this on the data frame to get the rows with the other columns with the largest salary values. \n",
    "'''\n",
    "csvPath = \"../data/survey_results_public.csv\"\n",
    "dataFrame = pd.read_csv(csvPath)\n",
    "\n",
    "\n",
    "# 1.\n",
    "df.sort_values(by=\"Country\", inplace=True)\n",
    "\n",
    "# 2.\n",
    "df[['Country','ConvertedComp']].head(50)\n",
    "\n",
    "# 3. \n",
    "df.sort_values(by=['Country','ConvertedComp'], ascending=[True, False], inplace=True)\n",
    "\n",
    "# 4.\n",
    "df[\"ConvertedComp\"].nlargest(10)\n",
    "\n",
    "# 5. \n",
    "df.nlargest(10, \"ConvertedComp\")"
   ]
  }
 ],
 "metadata": {
  "kernelspec": {
   "display_name": "Python 3",
   "language": "python",
   "name": "python3"
  },
  "language_info": {
   "name": "python",
   "version": "3.12.4"
  }
 },
 "nbformat": 4,
 "nbformat_minor": 2
}
